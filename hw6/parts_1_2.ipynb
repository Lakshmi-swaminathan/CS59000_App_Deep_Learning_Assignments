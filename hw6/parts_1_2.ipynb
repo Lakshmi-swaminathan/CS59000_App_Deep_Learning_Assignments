{
  "nbformat": 4,
  "nbformat_minor": 0,
  "metadata": {
    "colab": {
      "provenance": [],
      "machine_shape": "hm",
      "gpuType": "A100"
    },
    "kernelspec": {
      "name": "python3",
      "display_name": "Python 3"
    },
    "language_info": {
      "name": "python"
    },
    "accelerator": "GPU"
  },
  "cells": [
    {
      "cell_type": "code",
      "source": [
        "from google.colab import drive\n",
        "import shutil\n",
        "import os\n",
        "import tensorflow as tf\n",
        "from tensorflow.keras import layers, models\n",
        "from tensorflow.keras.callbacks import ModelCheckpoint\n",
        "from pathlib import Path"
      ],
      "metadata": {
        "id": "wvIwQEWenAnh"
      },
      "execution_count": 4,
      "outputs": []
    },
    {
      "cell_type": "code",
      "source": [
        "\n",
        "# Set paths for convenience\n",
        "zip_path = \"/content/drive/MyDrive/cifake.zip\"\n",
        "unzip_path = \"/content/drive/MyDrive/cifake_dataset\"\n",
        "# Define paths for train, validation, and test sets\n",
        "train_path = Path(unzip_path) / 'train'\n",
        "validation_path = Path(unzip_path) / 'validation'\n",
        "test_path = Path(unzip_path) / 'test'"
      ],
      "metadata": {
        "id": "E3eGSLV6my7-"
      },
      "execution_count": 5,
      "outputs": []
    },
    {
      "cell_type": "code",
      "source": [
        "# Mount Google Drive\n",
        "drive.mount('/content/drive')"
      ],
      "metadata": {
        "colab": {
          "base_uri": "https://localhost:8080/"
        },
        "id": "Ft01OV0xnLOW",
        "outputId": "7bbcad8c-e1dc-4aa7-8efc-4599cf900df3"
      },
      "execution_count": 6,
      "outputs": [
        {
          "output_type": "stream",
          "name": "stdout",
          "text": [
            "Mounted at /content/drive\n"
          ]
        }
      ]
    },
    {
      "cell_type": "code",
      "source": [
        "# Remove the unzip path if it already exists to avoid conflicts\n",
        "if os.path.exists(unzip_path):\n",
        "    shutil.rmtree(unzip_path)\n",
        "\n",
        "# Unzip the dataset using shutil\n",
        "shutil.unpack_archive(zip_path, unzip_path, 'zip')\n",
        "\n",
        "print(\"Dataset unzipped at:\", unzip_path)\n"
      ],
      "metadata": {
        "colab": {
          "base_uri": "https://localhost:8080/"
        },
        "id": "l2salo1hUtZ8",
        "outputId": "03bfe9f0-9d8a-4143-e39c-f69b33ee1cb3"
      },
      "execution_count": 7,
      "outputs": [
        {
          "output_type": "stream",
          "name": "stdout",
          "text": [
            "Dataset unzipped at: /content/drive/MyDrive/cifake_dataset\n"
          ]
        }
      ]
    },
    {
      "cell_type": "code",
      "source": [
        "# Create validation folders if they don't exist\n",
        "(validation_path / 'REAL').mkdir(parents=True, exist_ok=True)\n",
        "(validation_path / 'FAKE').mkdir(parents=True, exist_ok=True)\n",
        "\n",
        "# Move 10,000 images from train/REAL to validation/REAL\n",
        "real_images = list((train_path / 'REAL').glob('*.jpg'))\n",
        "for img_path in real_images[:10000]:\n",
        "    shutil.move(str(img_path), validation_path / 'REAL')\n",
        "\n",
        "# Move 10,000 images from train/FAKE to validation/FAKE\n",
        "fake_images = list((train_path / 'FAKE').glob('*.jpg'))\n",
        "for img_path in fake_images[:10000]:\n",
        "    shutil.move(str(img_path), validation_path / 'FAKE')\n",
        "\n",
        "print(\"Images organized into training, validation, and test folders.\")\n"
      ],
      "metadata": {
        "colab": {
          "base_uri": "https://localhost:8080/"
        },
        "id": "p9aOCxqFU6JT",
        "outputId": "a4c675c1-2874-4ca0-cbc0-414dbd9d9524"
      },
      "execution_count": 8,
      "outputs": [
        {
          "output_type": "stream",
          "name": "stdout",
          "text": [
            "Images organized into training, validation, and test folders.\n"
          ]
        }
      ]
    },
    {
      "cell_type": "code",
      "source": [
        "# Load datasets\n",
        "train_dataset = tf.keras.preprocessing.image_dataset_from_directory(\n",
        "    train_path,\n",
        "    image_size=(32, 32),\n",
        "    batch_size=32,\n",
        "    label_mode='binary'\n",
        ")"
      ],
      "metadata": {
        "colab": {
          "base_uri": "https://localhost:8080/"
        },
        "id": "Lfg5xXfbma3Y",
        "outputId": "b7226ef0-cc6b-454a-b64a-ef70a69657cd"
      },
      "execution_count": 9,
      "outputs": [
        {
          "output_type": "stream",
          "name": "stdout",
          "text": [
            "Found 80000 files belonging to 2 classes.\n"
          ]
        }
      ]
    },
    {
      "cell_type": "code",
      "source": [
        "validation_dataset = tf.keras.preprocessing.image_dataset_from_directory(\n",
        "    validation_path,\n",
        "    image_size=(32, 32),\n",
        "    batch_size=32,\n",
        "    label_mode='binary'\n",
        ")"
      ],
      "metadata": {
        "colab": {
          "base_uri": "https://localhost:8080/"
        },
        "id": "HKP5MQCgmbgg",
        "outputId": "a134f39f-5c13-47e5-bfcf-209a1481cdd6"
      },
      "execution_count": 10,
      "outputs": [
        {
          "output_type": "stream",
          "name": "stdout",
          "text": [
            "Found 20000 files belonging to 2 classes.\n"
          ]
        }
      ]
    },
    {
      "cell_type": "code",
      "source": [
        "test_dataset = tf.keras.preprocessing.image_dataset_from_directory(\n",
        "    test_path,\n",
        "    image_size=(32, 32),\n",
        "    batch_size=32,\n",
        "    label_mode='binary'\n",
        ")"
      ],
      "metadata": {
        "colab": {
          "base_uri": "https://localhost:8080/"
        },
        "id": "cqN28_oXmemF",
        "outputId": "15df7ee0-f273-4420-f664-85e3aa9a712e"
      },
      "execution_count": 11,
      "outputs": [
        {
          "output_type": "stream",
          "name": "stdout",
          "text": [
            "Found 20000 files belonging to 2 classes.\n"
          ]
        }
      ]
    },
    {
      "cell_type": "code",
      "source": [
        "\n",
        "# Define the model architecture\n",
        "model = models.Sequential([\n",
        "    layers.Rescaling(1./255, input_shape=(32, 32, 3)),  # Rescale\n",
        "    layers.Conv2D(32, (3, 3), activation='relu'),       # Conv2D\n",
        "    layers.MaxPooling2D((2, 2)),                        # Max Pool\n",
        "    layers.Conv2D(32, (3, 3), activation='relu'),       # Conv2D\n",
        "    layers.MaxPooling2D((2, 2)),                        # Max Pool\n",
        "    layers.Flatten(),                                   # Flatten\n",
        "    layers.Dense(64, activation='relu'),                # Dense\n",
        "    layers.Dense(1, activation='sigmoid')               # Output layer with Sigmoid\n",
        "])"
      ],
      "metadata": {
        "colab": {
          "base_uri": "https://localhost:8080/"
        },
        "id": "ymcAw9o5mgZ3",
        "outputId": "df4d3421-ca32-4eca-b886-83db2cf94478"
      },
      "execution_count": 12,
      "outputs": [
        {
          "output_type": "stream",
          "name": "stderr",
          "text": [
            "/usr/local/lib/python3.10/dist-packages/keras/src/layers/preprocessing/tf_data_layer.py:19: UserWarning: Do not pass an `input_shape`/`input_dim` argument to a layer. When using Sequential models, prefer using an `Input(shape)` object as the first layer in the model instead.\n",
            "  super().__init__(**kwargs)\n"
          ]
        }
      ]
    },
    {
      "cell_type": "code",
      "source": [
        "\n",
        "# Compile the model\n",
        "model.compile(optimizer='adam',\n",
        "              loss='binary_crossentropy',\n",
        "              metrics=['accuracy'])"
      ],
      "metadata": {
        "id": "21LQvtLCmhHw"
      },
      "execution_count": 13,
      "outputs": []
    },
    {
      "cell_type": "code",
      "source": [
        "# Set up a callback to save the best model\n",
        "checkpoint = ModelCheckpoint('/content/drive/MyDrive/cifake_best_model.keras',\n",
        "                             monitor='val_loss',\n",
        "                             save_best_only=True,\n",
        "                             mode='min')\n"
      ],
      "metadata": {
        "id": "cT4ZOEWrmk1A"
      },
      "execution_count": 16,
      "outputs": []
    },
    {
      "cell_type": "code",
      "source": [
        "# Train the model\n",
        "history = model.fit(\n",
        "    train_dataset,\n",
        "    validation_data=validation_dataset,\n",
        "    epochs=30,\n",
        "    callbacks=[checkpoint]\n",
        ")"
      ],
      "metadata": {
        "colab": {
          "base_uri": "https://localhost:8080/"
        },
        "id": "v7KQ7XpamnSQ",
        "outputId": "e8ae39fd-cf46-4f3a-8943-2f110fcb7aff"
      },
      "execution_count": 17,
      "outputs": [
        {
          "output_type": "stream",
          "name": "stdout",
          "text": [
            "Epoch 1/30\n",
            "\u001b[1m2500/2500\u001b[0m \u001b[32m━━━━━━━━━━━━━━━━━━━━\u001b[0m\u001b[37m\u001b[0m \u001b[1m146s\u001b[0m 57ms/step - accuracy: 0.7983 - loss: 0.4250 - val_accuracy: 0.8982 - val_loss: 0.2443\n",
            "Epoch 2/30\n",
            "\u001b[1m2500/2500\u001b[0m \u001b[32m━━━━━━━━━━━━━━━━━━━━\u001b[0m\u001b[37m\u001b[0m \u001b[1m164s\u001b[0m 66ms/step - accuracy: 0.8953 - loss: 0.2526 - val_accuracy: 0.9179 - val_loss: 0.2066\n",
            "Epoch 3/30\n",
            "\u001b[1m2500/2500\u001b[0m \u001b[32m━━━━━━━━━━━━━━━━━━━━\u001b[0m\u001b[37m\u001b[0m \u001b[1m161s\u001b[0m 64ms/step - accuracy: 0.9134 - loss: 0.2145 - val_accuracy: 0.9092 - val_loss: 0.2317\n",
            "Epoch 4/30\n",
            "\u001b[1m2500/2500\u001b[0m \u001b[32m━━━━━━━━━━━━━━━━━━━━\u001b[0m\u001b[37m\u001b[0m \u001b[1m148s\u001b[0m 59ms/step - accuracy: 0.9240 - loss: 0.1906 - val_accuracy: 0.9262 - val_loss: 0.1853\n",
            "Epoch 5/30\n",
            "\u001b[1m2500/2500\u001b[0m \u001b[32m━━━━━━━━━━━━━━━━━━━━\u001b[0m\u001b[37m\u001b[0m \u001b[1m158s\u001b[0m 63ms/step - accuracy: 0.9310 - loss: 0.1719 - val_accuracy: 0.9287 - val_loss: 0.1795\n",
            "Epoch 6/30\n",
            "\u001b[1m2500/2500\u001b[0m \u001b[32m━━━━━━━━━━━━━━━━━━━━\u001b[0m\u001b[37m\u001b[0m \u001b[1m149s\u001b[0m 59ms/step - accuracy: 0.9390 - loss: 0.1546 - val_accuracy: 0.9367 - val_loss: 0.1648\n",
            "Epoch 7/30\n",
            "\u001b[1m2500/2500\u001b[0m \u001b[32m━━━━━━━━━━━━━━━━━━━━\u001b[0m\u001b[37m\u001b[0m \u001b[1m272s\u001b[0m 109ms/step - accuracy: 0.9423 - loss: 0.1454 - val_accuracy: 0.9380 - val_loss: 0.1649\n",
            "Epoch 8/30\n",
            "\u001b[1m2500/2500\u001b[0m \u001b[32m━━━━━━━━━━━━━━━━━━━━\u001b[0m\u001b[37m\u001b[0m \u001b[1m139s\u001b[0m 56ms/step - accuracy: 0.9485 - loss: 0.1310 - val_accuracy: 0.9319 - val_loss: 0.1771\n",
            "Epoch 9/30\n",
            "\u001b[1m2500/2500\u001b[0m \u001b[32m━━━━━━━━━━━━━━━━━━━━\u001b[0m\u001b[37m\u001b[0m \u001b[1m139s\u001b[0m 55ms/step - accuracy: 0.9532 - loss: 0.1203 - val_accuracy: 0.9282 - val_loss: 0.1932\n",
            "Epoch 10/30\n",
            "\u001b[1m2500/2500\u001b[0m \u001b[32m━━━━━━━━━━━━━━━━━━━━\u001b[0m\u001b[37m\u001b[0m \u001b[1m140s\u001b[0m 56ms/step - accuracy: 0.9574 - loss: 0.1086 - val_accuracy: 0.9355 - val_loss: 0.1848\n",
            "Epoch 11/30\n",
            "\u001b[1m2500/2500\u001b[0m \u001b[32m━━━━━━━━━━━━━━━━━━━━\u001b[0m\u001b[37m\u001b[0m \u001b[1m139s\u001b[0m 56ms/step - accuracy: 0.9611 - loss: 0.0992 - val_accuracy: 0.9354 - val_loss: 0.1822\n",
            "Epoch 12/30\n",
            "\u001b[1m2500/2500\u001b[0m \u001b[32m━━━━━━━━━━━━━━━━━━━━\u001b[0m\u001b[37m\u001b[0m \u001b[1m139s\u001b[0m 55ms/step - accuracy: 0.9659 - loss: 0.0885 - val_accuracy: 0.9316 - val_loss: 0.1976\n",
            "Epoch 13/30\n",
            "\u001b[1m2500/2500\u001b[0m \u001b[32m━━━━━━━━━━━━━━━━━━━━\u001b[0m\u001b[37m\u001b[0m \u001b[1m139s\u001b[0m 56ms/step - accuracy: 0.9695 - loss: 0.0797 - val_accuracy: 0.9395 - val_loss: 0.1895\n",
            "Epoch 14/30\n",
            "\u001b[1m2500/2500\u001b[0m \u001b[32m━━━━━━━━━━━━━━━━━━━━\u001b[0m\u001b[37m\u001b[0m \u001b[1m140s\u001b[0m 56ms/step - accuracy: 0.9722 - loss: 0.0726 - val_accuracy: 0.9333 - val_loss: 0.2221\n",
            "Epoch 15/30\n",
            "\u001b[1m2500/2500\u001b[0m \u001b[32m━━━━━━━━━━━━━━━━━━━━\u001b[0m\u001b[37m\u001b[0m \u001b[1m139s\u001b[0m 56ms/step - accuracy: 0.9751 - loss: 0.0640 - val_accuracy: 0.9384 - val_loss: 0.2192\n",
            "Epoch 16/30\n",
            "\u001b[1m2500/2500\u001b[0m \u001b[32m━━━━━━━━━━━━━━━━━━━━\u001b[0m\u001b[37m\u001b[0m \u001b[1m139s\u001b[0m 56ms/step - accuracy: 0.9784 - loss: 0.0565 - val_accuracy: 0.9309 - val_loss: 0.2507\n",
            "Epoch 17/30\n",
            "\u001b[1m2500/2500\u001b[0m \u001b[32m━━━━━━━━━━━━━━━━━━━━\u001b[0m\u001b[37m\u001b[0m \u001b[1m142s\u001b[0m 57ms/step - accuracy: 0.9803 - loss: 0.0506 - val_accuracy: 0.9352 - val_loss: 0.2372\n",
            "Epoch 18/30\n",
            "\u001b[1m2500/2500\u001b[0m \u001b[32m━━━━━━━━━━━━━━━━━━━━\u001b[0m\u001b[37m\u001b[0m \u001b[1m140s\u001b[0m 56ms/step - accuracy: 0.9825 - loss: 0.0475 - val_accuracy: 0.9322 - val_loss: 0.2633\n",
            "Epoch 19/30\n",
            "\u001b[1m2500/2500\u001b[0m \u001b[32m━━━━━━━━━━━━━━━━━━━━\u001b[0m\u001b[37m\u001b[0m \u001b[1m142s\u001b[0m 57ms/step - accuracy: 0.9829 - loss: 0.0457 - val_accuracy: 0.9337 - val_loss: 0.2806\n",
            "Epoch 20/30\n",
            "\u001b[1m2500/2500\u001b[0m \u001b[32m━━━━━━━━━━━━━━━━━━━━\u001b[0m\u001b[37m\u001b[0m \u001b[1m141s\u001b[0m 56ms/step - accuracy: 0.9841 - loss: 0.0442 - val_accuracy: 0.9325 - val_loss: 0.2981\n",
            "Epoch 21/30\n",
            "\u001b[1m2500/2500\u001b[0m \u001b[32m━━━━━━━━━━━━━━━━━━━━\u001b[0m\u001b[37m\u001b[0m \u001b[1m141s\u001b[0m 56ms/step - accuracy: 0.9833 - loss: 0.0436 - val_accuracy: 0.9308 - val_loss: 0.3000\n",
            "Epoch 22/30\n",
            "\u001b[1m2500/2500\u001b[0m \u001b[32m━━━━━━━━━━━━━━━━━━━━\u001b[0m\u001b[37m\u001b[0m \u001b[1m139s\u001b[0m 56ms/step - accuracy: 0.9872 - loss: 0.0369 - val_accuracy: 0.9302 - val_loss: 0.3106\n",
            "Epoch 23/30\n",
            "\u001b[1m2500/2500\u001b[0m \u001b[32m━━━━━━━━━━━━━━━━━━━━\u001b[0m\u001b[37m\u001b[0m \u001b[1m139s\u001b[0m 55ms/step - accuracy: 0.9871 - loss: 0.0337 - val_accuracy: 0.9143 - val_loss: 0.3954\n",
            "Epoch 24/30\n",
            "\u001b[1m2500/2500\u001b[0m \u001b[32m━━━━━━━━━━━━━━━━━━━━\u001b[0m\u001b[37m\u001b[0m \u001b[1m139s\u001b[0m 56ms/step - accuracy: 0.9872 - loss: 0.0339 - val_accuracy: 0.9294 - val_loss: 0.3334\n",
            "Epoch 25/30\n",
            "\u001b[1m2500/2500\u001b[0m \u001b[32m━━━━━━━━━━━━━━━━━━━━\u001b[0m\u001b[37m\u001b[0m \u001b[1m138s\u001b[0m 55ms/step - accuracy: 0.9871 - loss: 0.0346 - val_accuracy: 0.9301 - val_loss: 0.3767\n",
            "Epoch 26/30\n",
            "\u001b[1m2500/2500\u001b[0m \u001b[32m━━━━━━━━━━━━━━━━━━━━\u001b[0m\u001b[37m\u001b[0m \u001b[1m138s\u001b[0m 55ms/step - accuracy: 0.9873 - loss: 0.0347 - val_accuracy: 0.9279 - val_loss: 0.3913\n",
            "Epoch 27/30\n",
            "\u001b[1m2500/2500\u001b[0m \u001b[32m━━━━━━━━━━━━━━━━━━━━\u001b[0m\u001b[37m\u001b[0m \u001b[1m138s\u001b[0m 55ms/step - accuracy: 0.9888 - loss: 0.0299 - val_accuracy: 0.9304 - val_loss: 0.3665\n",
            "Epoch 28/30\n",
            "\u001b[1m2500/2500\u001b[0m \u001b[32m━━━━━━━━━━━━━━━━━━━━\u001b[0m\u001b[37m\u001b[0m \u001b[1m142s\u001b[0m 57ms/step - accuracy: 0.9910 - loss: 0.0271 - val_accuracy: 0.9305 - val_loss: 0.3698\n",
            "Epoch 29/30\n",
            "\u001b[1m2500/2500\u001b[0m \u001b[32m━━━━━━━━━━━━━━━━━━━━\u001b[0m\u001b[37m\u001b[0m \u001b[1m145s\u001b[0m 58ms/step - accuracy: 0.9907 - loss: 0.0254 - val_accuracy: 0.9270 - val_loss: 0.3858\n",
            "Epoch 30/30\n",
            "\u001b[1m2500/2500\u001b[0m \u001b[32m━━━━━━━━━━━━━━━━━━━━\u001b[0m\u001b[37m\u001b[0m \u001b[1m146s\u001b[0m 58ms/step - accuracy: 0.9893 - loss: 0.0298 - val_accuracy: 0.9265 - val_loss: 0.3993\n"
          ]
        }
      ]
    },
    {
      "cell_type": "code",
      "source": [
        "# Evaluate the model on the test dataset\n",
        "test_loss, test_accuracy = model.evaluate(test_dataset)\n",
        "print(f\"Test accuracy: {test_accuracy * 100:.2f}%\")"
      ],
      "metadata": {
        "colab": {
          "base_uri": "https://localhost:8080/"
        },
        "id": "RNxx3R47mn0K",
        "outputId": "da1a5bd6-c676-446e-a363-71bba6461a2d"
      },
      "execution_count": 18,
      "outputs": [
        {
          "output_type": "stream",
          "name": "stdout",
          "text": [
            "\u001b[1m625/625\u001b[0m \u001b[32m━━━━━━━━━━━━━━━━━━━━\u001b[0m\u001b[37m\u001b[0m \u001b[1m28s\u001b[0m 45ms/step - accuracy: 0.9209 - loss: 0.4425\n",
            "Test accuracy: 92.17%\n"
          ]
        }
      ]
    },
    {
      "cell_type": "code",
      "source": [],
      "metadata": {
        "id": "r6CYPVnkn0ON"
      },
      "execution_count": 18,
      "outputs": []
    }
  ]
}